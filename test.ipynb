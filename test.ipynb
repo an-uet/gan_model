{
 "cells": [
  {
   "cell_type": "code",
   "id": "initial_id",
   "metadata": {
    "collapsed": true,
    "ExecuteTime": {
     "end_time": "2024-11-13T08:19:48.666197Z",
     "start_time": "2024-11-13T08:19:43.952324Z"
    }
   },
   "source": [
    "import re\n",
    "\n",
    "import torch\n",
    "from torch.utils.data import Dataset, DataLoader\n",
    "from PIL import Image\n",
    "import torchvision.transforms as transforms\n",
    "\n",
    "import cv2\n",
    "import numpy as np\n",
    "import shutil\n",
    "import pandas as pd\n",
    "import ast\n",
    "import os\n",
    "import matplotlib.pyplot as plt\n",
    "\n",
    "from gan.dcgan import predict_validate\n",
    "\n",
    "\n",
    "class GeneExpressionImageDataset(Dataset):\n",
    "    def __init__(self, gene_expressions, image_paths, transform=None):\n",
    "        self.gene_expressions = gene_expressions\n",
    "        self.image_paths = image_paths\n",
    "        self.transform = transform\n",
    "\n",
    "    def __len__(self):\n",
    "        return len(self.gene_expressions)\n",
    "\n",
    "    def __getitem__(self, idx):\n",
    "        gene_expression = self.gene_expressions[idx]\n",
    "\n",
    "        # Load the image\n",
    "        image = Image.open(self.image_paths[idx])\n",
    "        if self.transform:\n",
    "            image = self.transform(image)\n",
    "\n",
    "        gene_expression = torch.tensor(gene_expression, dtype=torch.float32)\n",
    "\n",
    "        return gene_expression, image\n",
    "\n",
    "\n",
    "transform = transforms.Compose([\n",
    "    transforms.Resize(256),\n",
    "    transforms.CenterCrop(256),\n",
    "    transforms.ToTensor(),\n",
    "    transforms.Normalize((0.5, 0.5, 0.5), (0.5, 0.5, 0.5)),\n",
    "])\n",
    "image_paths = ['data/image/spots_test/test/0.jpg', 'data/image/spots_test/test/1.jpg',\n",
    "               'data/image/spots_test/test/2.jpg', 'data/image/spots_test/test/3.jpg',\n",
    "               'data/image/spots_test/test/4.jpg']\n",
    "gene_expressions = [[1, 2, 3], [4, 5, 6], [7, 8, 9], [10, 11, 12], [13, 14, 15]]\n",
    "dataset = GeneExpressionImageDataset(gene_expressions=gene_expressions, image_paths=image_paths, transform=transform)\n",
    "dataloader = DataLoader(dataset, batch_size=2, shuffle=True, num_workers=1)\n",
    "\n"
   ],
   "outputs": [],
   "execution_count": 5
  },
  {
   "metadata": {
    "ExecuteTime": {
     "end_time": "2024-11-05T09:02:01.887614Z",
     "start_time": "2024-11-05T09:02:01.763834Z"
    }
   },
   "cell_type": "code",
   "source": [
    "for i, data in enumerate(dataloader, 0):\n",
    "    gene_expressions, images = data\n",
    "    print(\"Gene Expression Batch Shape:\", gene_expressions)\n",
    "    print(\"Image Batch Shape:\", images.shape)\n"
   ],
   "id": "1f0ff493fc07ea0e",
   "outputs": [
    {
     "name": "stdout",
     "output_type": "stream",
     "text": [
      "Gene Expression Batch Shape: tensor([[ 4.,  5.,  6.],\n",
      "        [10., 11., 12.]])\n",
      "Image Batch Shape: torch.Size([2, 3, 256, 256])\n",
      "Gene Expression Batch Shape: tensor([[13., 14., 15.],\n",
      "        [ 1.,  2.,  3.]])\n",
      "Image Batch Shape: torch.Size([2, 3, 256, 256])\n",
      "Gene Expression Batch Shape: tensor([[7., 8., 9.]])\n",
      "Image Batch Shape: torch.Size([1, 3, 256, 256])\n"
     ]
    }
   ],
   "execution_count": 36
  },
  {
   "metadata": {
    "ExecuteTime": {
     "end_time": "2024-10-31T16:14:27.748308Z",
     "start_time": "2024-10-31T16:14:27.742308Z"
    }
   },
   "cell_type": "code",
   "source": [
    "import random\n",
    "\n",
    "random_elements = random.sample(range(1, 1001), 500)"
   ],
   "id": "58157119a8cb242f",
   "outputs": [],
   "execution_count": 3
  },
  {
   "metadata": {
    "ExecuteTime": {
     "end_time": "2024-10-31T16:21:08.535966Z",
     "start_time": "2024-10-31T16:21:08.310928Z"
    }
   },
   "cell_type": "code",
   "source": [
    "import pandas as pd\n",
    "\n",
    "df = pd.read_csv('data/gene_expression/data_test.csv')\n",
    "test_df = df.iloc[random_elements]\n",
    "list(set(test_df['patient'].values.tolist()))"
   ],
   "id": "492fd0fc585a5abc",
   "outputs": [
    {
     "data": {
      "text/plain": [
       "['F', 'D', 'E', 'G', 'A', 'C', 'B', 'H']"
      ]
     },
     "execution_count": 12,
     "metadata": {},
     "output_type": "execute_result"
    }
   ],
   "execution_count": 12
  },
  {
   "metadata": {
    "ExecuteTime": {
     "end_time": "2024-10-31T16:27:40.375550Z",
     "start_time": "2024-10-31T16:27:39.950067Z"
    }
   },
   "cell_type": "code",
   "source": "test_df.to_csv('data/gene_expression/data_test2.csv', index=False)",
   "id": "c0975abc01d1aae8",
   "outputs": [],
   "execution_count": 20
  },
  {
   "metadata": {
    "ExecuteTime": {
     "end_time": "2024-10-31T16:21:25.647944Z",
     "start_time": "2024-10-31T16:21:25.624928Z"
    }
   },
   "cell_type": "code",
   "source": [
    "another_index = [i for i in range(1000) if i not in random_elements]\n",
    "validation_df = df.iloc[another_index]\n",
    "list(set(validation_df['patient'].values.tolist()))"
   ],
   "id": "f9e47b8f85ccf02a",
   "outputs": [
    {
     "data": {
      "text/plain": [
       "['F', 'D', 'E', 'G', 'A', 'C', 'B', 'H']"
      ]
     },
     "execution_count": 13,
     "metadata": {},
     "output_type": "execute_result"
    }
   ],
   "execution_count": 13
  },
  {
   "metadata": {
    "ExecuteTime": {
     "end_time": "2024-10-31T16:18:44.318912Z",
     "start_time": "2024-10-31T16:18:44.073736Z"
    }
   },
   "cell_type": "code",
   "source": "validation_df.to_csv('data/gene_expression/data_validation.csv', index=False)",
   "id": "379b9bb0238fa88c",
   "outputs": [],
   "execution_count": 10
  },
  {
   "metadata": {
    "ExecuteTime": {
     "end_time": "2024-10-31T16:23:57.493853Z",
     "start_time": "2024-10-31T16:23:53.082316Z"
    }
   },
   "cell_type": "code",
   "source": [
    "import shutil\n",
    "\n",
    "for i, index in enumerate(another_index):\n",
    "    shutil.copy('data/image/spots_test/test/' + str(index) + '.jpg',\n",
    "                'data/image/spots_validation/validation_wgan_gp/' + str(i) + '.jpg')"
   ],
   "id": "e458e7ee919ccd86",
   "outputs": [],
   "execution_count": 18
  },
  {
   "metadata": {},
   "cell_type": "code",
   "outputs": [],
   "execution_count": null,
   "source": [
    "import shutil\n",
    "\n",
    "for i, index in enumerate(another_index):\n",
    "    shutil.copy('data/image/spots_test/test/' + str(index) + '.jpg',\n",
    "                'data/image/spots_validation/validation_wgan_gp/' + str(i) + '.jpg')"
   ],
   "id": "c4dec42df604dc9e"
  },
  {
   "metadata": {
    "ExecuteTime": {
     "end_time": "2024-10-31T16:26:05.465674Z",
     "start_time": "2024-10-31T16:26:01.108456Z"
    }
   },
   "cell_type": "code",
   "source": [
    "import shutil\n",
    "\n",
    "for i, index in enumerate(random_elements):\n",
    "    shutil.copy('data/image/spots_test/test/' + str(index) + '.jpg', 'data/image/spots_test/test2/' + str(i) + '.jpg')"
   ],
   "id": "7f96a3fea0a01375",
   "outputs": [],
   "execution_count": 19
  },
  {
   "metadata": {
    "ExecuteTime": {
     "end_time": "2024-10-31T16:29:15.920654Z",
     "start_time": "2024-10-31T16:29:15.893654Z"
    }
   },
   "cell_type": "code",
   "source": "df.shape",
   "id": "68eecbae3e5e52eb",
   "outputs": [
    {
     "data": {
      "text/plain": [
       "(1000, 3)"
      ]
     },
     "execution_count": 21,
     "metadata": {},
     "output_type": "execute_result"
    }
   ],
   "execution_count": 21
  },
  {
   "metadata": {
    "ExecuteTime": {
     "end_time": "2024-10-31T16:29:26.989997Z",
     "start_time": "2024-10-31T16:29:23.363267Z"
    }
   },
   "cell_type": "code",
   "source": "df_train = pd.read_csv('data/gene_expression/data_train.csv')",
   "id": "49f71e13868e3c0b",
   "outputs": [],
   "execution_count": 22
  },
  {
   "metadata": {
    "ExecuteTime": {
     "end_time": "2024-10-31T16:30:32.148362Z",
     "start_time": "2024-10-31T16:30:32.110340Z"
    }
   },
   "cell_type": "code",
   "source": [
    "new_df_train = pd.concat([df_train, df])\n",
    "new_df_train.shape, df_train.shape\n"
   ],
   "id": "67d3d8c614b35868",
   "outputs": [
    {
     "data": {
      "text/plain": [
       "((13619, 3), (12619, 3))"
      ]
     },
     "execution_count": 24,
     "metadata": {},
     "output_type": "execute_result"
    }
   ],
   "execution_count": 24
  },
  {
   "metadata": {
    "ExecuteTime": {
     "end_time": "2024-11-05T09:03:44.751559Z",
     "start_time": "2024-11-05T09:03:39.240704Z"
    }
   },
   "cell_type": "code",
   "source": [
    "images = os.listdir('data/image/spots_train/train')\n",
    "value_brightness = []\n",
    "for i in images:\n",
    "    image = cv2.imread(f\"data/image/spots_train/train/{i}\", cv2.IMREAD_GRAYSCALE)\n",
    "    average_brightness = np.mean(image)\n",
    "    value_brightness.append((i, average_brightness))\n",
    "\n",
    "brightness_values = \\\n",
    "    [item[1] for item in value_brightness]\n",
    "\n",
    "plt.figure(figsize=(6, 4))\n",
    "plt.hist(brightness_values, bins=30, edgecolor='black')\n",
    "plt.xlabel('Brightness Value')\n",
    "plt.ylabel('Frequency')\n",
    "plt.title('Distribution of Brightness Values')\n",
    "plt.grid(True)\n",
    "plt.tight_layout()\n",
    "plt.show()"
   ],
   "id": "ba6ab029358659c4",
   "outputs": [
    {
     "data": {
      "text/plain": [
       "<Figure size 600x400 with 1 Axes>"
      ],
      "image/png": "[encoded data removed]"
     },
     "metadata": {},
     "output_type": "display_data"
    }
   ],
   "execution_count": 42
  },
  {
   "metadata": {
    "ExecuteTime": {
     "end_time": "2024-11-05T09:04:46.082456Z",
     "start_time": "2024-11-05T09:04:46.078452Z"
    }
   },
   "cell_type": "code",
   "source": [
    "brightness_values = [item[1] for item in value_brightness]\n",
    "quantile_95 = np.percentile(brightness_values, 99)\n",
    "\n",
    "print(f\"95th percentile of brightness values: {quantile_95}\")"
   ],
   "id": "92b17775b11643e6",
   "outputs": [
    {
     "name": "stdout",
     "output_type": "stream",
     "text": [
      "95th percentile of brightness values: 216.31053527832032\n"
     ]
    }
   ],
   "execution_count": 47
  },
  {
   "metadata": {
    "ExecuteTime": {
     "end_time": "2024-11-05T09:03:47.425944Z",
     "start_time": "2024-11-05T09:03:44.796734Z"
    }
   },
   "cell_type": "code",
   "source": [
    "image_dir = 'data/image/spots_train/train'\n",
    "bright_images = []\n",
    "\n",
    "for img_name in images:\n",
    "    img_path = os.path.join(image_dir, img_name)\n",
    "    image = cv2.imread(img_path, cv2.IMREAD_GRAYSCALE)\n",
    "    average_brightness = np.mean(image)\n",
    "    if average_brightness > 225:\n",
    "        bright_images.append((img_name, average_brightness))\n",
    "\n",
    "bright_images.sort(key=lambda x: x[1], reverse=True)\n"
   ],
   "id": "12127e76ec1da3ff",
   "outputs": [],
   "execution_count": 43
  },
  {
   "metadata": {
    "ExecuteTime": {
     "end_time": "2024-11-05T09:04:04.315216Z",
     "start_time": "2024-11-05T09:04:04.306134Z"
    }
   },
   "cell_type": "code",
   "source": [
    "x = ast.literal_eval(df.iloc[5587]['gene_expression'])\n",
    "x.count(0) / 2048 * 100"
   ],
   "id": "1f32158a95bc6392",
   "outputs": [
    {
     "data": {
      "text/plain": [
       "19.04296875"
      ]
     },
     "execution_count": 44,
     "metadata": {},
     "output_type": "execute_result"
    }
   ],
   "execution_count": 44
  },
  {
   "metadata": {
    "ExecuteTime": {
     "end_time": "2024-11-06T03:25:34.019219Z",
     "start_time": "2024-11-06T03:25:01.726140Z"
    }
   },
   "cell_type": "code",
   "source": [
    "from gan.dcgan import predict_validate\n",
    "\n",
    "predict_validate('/home/anlt69/Downloads/model_epoch_400.h5')"
   ],
   "id": "6a432672ed059083",
   "outputs": [],
   "execution_count": 2
  },
  {
   "metadata": {
    "ExecuteTime": {
     "end_time": "2024-11-17T13:03:30.581355Z",
     "start_time": "2024-11-17T13:03:28.841139Z"
    }
   },
   "cell_type": "code",
   "source": [
    "from scipy.stats import zscore\n",
    "import pandas as pd\n",
    "import ast\n",
    "from scipy.stats import zscore\n",
    "import numpy as np\n",
    "import matplotlib.pyplot as plt\n",
    "\n",
    "\n",
    "def load_gene_expression(data_path='data.csv'):\n",
    "    df = pd.read_csv(data_path)\n",
    "    gene_expression = df['gene_expression']\n",
    "    new_gene_expression = []\n",
    "\n",
    "    for i in range(len(gene_expression)):\n",
    "        try:\n",
    "            row = ast.literal_eval(gene_expression[i])\n",
    "            row = np.array(row)\n",
    "            new_gene_expression.append(row)\n",
    "        except Exception as e:\n",
    "            print('error:', e)\n",
    "\n",
    "    gene_expression = np.array(new_gene_expression)\n",
    "    return gene_expression\n",
    "\n",
    "gene_expression = load_gene_expression('data/gene_expression/data_test.csv')"
   ],
   "id": "a05c152aa661a6e2",
   "outputs": [],
   "execution_count": 12
  },
  {
   "metadata": {
    "ExecuteTime": {
     "end_time": "2024-11-17T13:06:58.493218Z",
     "start_time": "2024-11-17T13:06:58.192775Z"
    }
   },
   "cell_type": "code",
   "source": [
    "spot1 = gene_expression[8]\n",
    "spot1_zscore = zscore(spot1)\n",
    "print('Spot1:', spot1.mean(), spot1.std())\n",
    "print('Spot1 Z-score:', spot1_zscore.mean(), spot1_zscore.std())\n",
    "\n",
    "plt.figure(figsize=(12, 6))\n",
    "\n",
    "# Plot the distribution of spot1\n",
    "plt.subplot(1, 2, 1)\n",
    "plt.hist(spot1, bins=50, edgecolor='black')\n",
    "plt.title('Distribution of spot1')\n",
    "plt.xlabel('Value')\n",
    "plt.ylabel('Frequency')\n",
    "\n",
    "# Plot the distribution of spot1_zscore\n",
    "plt.subplot(1, 2, 2)\n",
    "plt.hist(spot1_zscore, bins=50, edgecolor='black')\n",
    "plt.title('Distribution of spot1_zscore')\n",
    "plt.xlabel('Z-score')\n",
    "plt.ylabel('Frequency')\n",
    "\n",
    "plt.tight_layout()\n",
    "plt.show()"
   ],
   "id": "9100d29cd3841f4d",
   "outputs": [
    {
     "name": "stdout",
     "output_type": "stream",
     "text": [
      "Spot1: 0.30347099511411413 0.3568064891265154\n",
      "Spot1 Z-score: -2.7755575615628914e-17 0.9999999999999998\n"
     ]
    },
    {
     "data": {
      "text/plain": [
       "<Figure size 1200x600 with 2 Axes>"
      ],
      "image/png": "[encoded data removed]"
     },
     "metadata": {},
     "output_type": "display_data"
    }
   ],
   "execution_count": 25
  },
  {
   "metadata": {
    "ExecuteTime": {
     "end_time": "2024-11-13T08:08:00.722399Z",
     "start_time": "2024-11-13T08:07:56.604344Z"
    }
   },
   "cell_type": "code",
   "source": [
    "index = [442, 731, 2726, 2994, 3495, 3563, 3713, 5662]\n",
    "\n",
    "df = df.drop(index)\n",
    "print(df.shape)\n",
    "df.to_csv('data/gene_expression/data_train.csv', index=False)"
   ],
   "id": "f6f315d8b6501200",
   "outputs": [
    {
     "name": "stdout",
     "output_type": "stream",
     "text": [
      "(12611, 3)\n"
     ]
    }
   ],
   "execution_count": 18
  },
  {
   "metadata": {
    "ExecuteTime": {
     "end_time": "2024-11-13T08:19:52.382355Z",
     "start_time": "2024-11-13T08:19:48.677199Z"
    }
   },
   "cell_type": "code",
   "source": [
    "images = ['data/image/spots_train/train/' + str(i) + '.jpg' for i in range(12619)]\n",
    "index = [442, 731, 2726, 2994, 3495, 3563, 3713, 5662]\n",
    "for i in index:\n",
    "    images.remove('data/image/spots_train/train/' + str(i) + '.jpg')\n",
    "len(images)\n",
    "\n",
    "for i in range(12611):\n",
    "    shutil.copy(images[i], 'data/image/spots_train/train/' + str(i) + '.jpg')\n"
   ],
   "id": "b7a2c32cd017f74d",
   "outputs": [],
   "execution_count": 6
  },
  {
   "metadata": {
    "ExecuteTime": {
     "end_time": "2024-11-13T08:21:11.577393Z",
     "start_time": "2024-11-13T08:21:08.754989Z"
    }
   },
   "cell_type": "code",
   "source": [
    "import os\n",
    "import pandas as pd\n",
    "len(os.listdir('data/image/spots_train/train'))\n",
    "\n",
    "df = pd.read_csv('data/gene_expression/data_train.csv')\n",
    "df.shape"
   ],
   "id": "a148792484edea31",
   "outputs": [
    {
     "data": {
      "text/plain": [
       "(12611, 3)"
      ]
     },
     "execution_count": 8,
     "metadata": {},
     "output_type": "execute_result"
    }
   ],
   "execution_count": 8
  },
  {
   "metadata": {
    "ExecuteTime": {
     "end_time": "2024-11-17T14:13:34.142203Z",
     "start_time": "2024-11-17T14:13:28.308524Z"
    }
   },
   "cell_type": "code",
   "source": [
    "# Concatenate images vertically\n",
    "from PIL import Image\n",
    "for i in range(500):\n",
    "    img1 = Image.open(f'/home/anlt69/Downloads/GAN_model_13Nov2024/gan_model/data/image_1/spots_validation/validation/{i}.jpg')\n",
    "    img2 = Image.open(f'/home/anlt69/Downloads/SD_12Nov2024_fake/fake_image_{i+1}.png')\n",
    "    concat_img = Image.new('RGB', (img1.width + img2.width, max(img1.height, img2.height)))\n",
    "    concat_img.paste(img1, (0, 0))\n",
    "    concat_img.paste(img2, (img1.width, 0))\n",
    "    \n",
    "    # Save the concatenated image\n",
    "    concat_img.save(f'result/validation_diffusion/image_{i}.jpg')"
   ],
   "id": "b1cbe1348f81e658",
   "outputs": [],
   "execution_count": 34
  },
  {
   "metadata": {},
   "cell_type": "code",
   "outputs": [],
   "execution_count": null,
   "source": [
    "concat_img = Image.new('RGB', (img1.width + img2.width, max(img1.height, img2.height)))\n",
    "concat_img.paste(img1, (0, 0))\n",
    "concat_img.paste(img2, (img1.width, 0))\n"
   ],
   "id": "903c37954fa792d9"
  }
 ],
 "metadata": {
  "kernelspec": {
   "display_name": "Python 3",
   "language": "python",
   "name": "python3"
  },
  "language_info": {
   "codemirror_mode": {
    "name": "ipython",
    "version": 2
   },
   "file_extension": ".py",
   "mimetype": "text/x-python",
   "name": "python",
   "nbconvert_exporter": "python",
   "pygments_lexer": "ipython2",
   "version": "2.7.6"
  }
 },
 "nbformat": 4,
 "nbformat_minor": 5
}
